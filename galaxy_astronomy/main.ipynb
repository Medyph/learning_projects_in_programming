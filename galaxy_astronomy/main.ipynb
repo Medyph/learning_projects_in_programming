{
 "cells": [
  {
   "cell_type": "code",
   "execution_count": 8,
   "id": "9716a81e-4c66-40e2-b6dd-e5a0c05c4ddc",
   "metadata": {},
   "outputs": [
    {
     "data": {
      "text/plain": [
       "'\\n\\nОписание: Программа делает \\n- Перебор значений из двумерной таблицы с использованием масок \\n- Вычисление галактической долготы и галактической широты объектов\\n- Перевод прямого восхождения и склонения объектов в галактическую систему координат\\n- Рассчет расстояния от центра галактики до скоплений из массива данных\\n- Рассчет собственного движения mu_l в галактической системе координат\\n\\nАвтор: Daria Zholnirova\\nДата: май 2025\\n\\n\\nПример использования:\\nПрограмма считывает файл table.fit\\n\\n\\n'"
      ]
     },
     "execution_count": 8,
     "metadata": {},
     "output_type": "execute_result"
    }
   ],
   "source": [
    "'''\n",
    "\n",
    "Описание: Программа делает \n",
    "- Перебор значений из двумерной таблицы с использованием масок \n",
    "- Вычисление галактической долготы и галактической широты объектов\n",
    "- Перевод прямого восхождения и склонения объектов в галактическую систему координат\n",
    "- Рассчет расстояния от центра галактики до скоплений из массива данных\n",
    "- Рассчет собственного движения в галактической системе координат\n",
    "\n",
    "Автор: Daria Zholnirova\n",
    "Дата: май 2025\n",
    "\n",
    "'''"
   ]
  },
  {
   "cell_type": "code",
   "execution_count": 9,
   "id": "00112abc-e787-421a-a4bd-75c176f12f0e",
   "metadata": {},
   "outputs": [],
   "source": [
    "from astropy.io import fits\n",
    "from astropy.visualization import ImageNormalize, ZScaleInterval, PercentileInterval\n",
    "import numpy as np\n",
    "from astropy.coordinates import Angle\n",
    "from astropy import units as u\n",
    "import math\n",
    "\n",
    "#Constants\n",
    "D = math.radians(23.13)\n",
    "A = math.radians(192.86)"
   ]
  },
  {
   "cell_type": "code",
   "execution_count": 2,
   "id": "8881c9d2-f256-479e-827b-a86240f02a4e",
   "metadata": {},
   "outputs": [
    {
     "name": "stdout",
     "output_type": "stream",
     "text": [
      "Оставлено строк: 501 из 7167\n"
     ]
    }
   ],
   "source": [
    "# Перебор типа, радиальной скорости, и возраста из данного массива\n",
    "with fits.open('table.fit') as hdul:\n",
    "    data = hdul[1].data  \n",
    "    \n",
    "    # Создаем маски для строк\n",
    "    mask_1 = data['Type'] == 'o'\n",
    "    mask_2 = data['RV'] != 0\n",
    "    mask_3 = data['logAge50'] != 0\n",
    "    mask_4 = (data['logAge50'] >= 7.24) & (data['logAge50'] <= 7.65)\n",
    "    \n",
    "    # Применяем маску к данным\n",
    "    comb_mask = mask_1 & mask_2 & mask_3 & mask_4\n",
    "    filtered_data = data[comb_mask]\n",
    "    print(f\"Оставлено строк: {len(filtered_data)} из {len(data)}\")\n",
    "    \n",
    "    # Создаем новую таблицу с отфильтрованными данными\n",
    "    new_hdu = fits.TableHDU(filtered_data)\n",
    "    \n",
    "    # Сохраняем результат в новый файл\n",
    "    new_hdu.writeto('filtered_file.fits', overwrite=True)"
   ]
  },
  {
   "cell_type": "code",
   "execution_count": 10,
   "id": "1d5aabea-40f2-43b0-80a3-6f5b5880bd21",
   "metadata": {},
   "outputs": [],
   "source": [
    "# Перевод прямого восхождения и склонения в галактическую систему координат\n",
    "\n",
    "# Создаем пустой массив для результатов\n",
    "b = np.zeros(len(data))\n",
    "la_cos = np.zeros(len(data))\n",
    "la_sin = np.zeros(len(data))\n",
    "sin_la = np.zeros(len(data))\n",
    "cos_la = np.zeros(len(data))\n",
    "    \n",
    "# Проходим по каждой строке таблицы\n",
    "for i in range(len(data)):\n",
    "    delta = data['DE_ICRS'][i]\n",
    "    alfa = data['RA_ICRS'][i]\n",
    "        \n",
    "    # Вычисляем b\n",
    "    b[i] = math.asin(math.sin(delta)*math.sin(D)+math.cos(delta)*math.cos(D)*math.cos(alfa-A))\n",
    "\n",
    "    # Вычисляем la\n",
    "    la_cos[i] = math.acos((math.cos(delta)*math.sin(alfa-A)/math.cos(b[i])))\n",
    "    la_sin[i] = math.asin((math.sin(delta)*math.cos(D)-math.cos(delta)*math.sin(D)*math.cos(alfa-A))/math.cos(b[i]))\n",
    "\n",
    "    cos_la[i] = math.cos(la_cos[i])\n",
    "    sin_la[i] = math.sin(la_sin[i])"
   ]
  },
  {
   "cell_type": "code",
   "execution_count": 4,
   "id": "c2a49164-c76e-42d1-a4af-cf29acf89dc5",
   "metadata": {},
   "outputs": [],
   "source": [
    "# Пересчет прямого восхождения и склонения в галактические координаты\n",
    "\n",
    "from astropy.coordinates import SkyCoord, Galactic\n",
    "\n",
    "ra = filtered_data['RA_ICRS']\n",
    "dec = filtered_data['DE_ICRS']\n",
    "\n",
    "# Преобразование координат\n",
    "coords = SkyCoord(ra = filtered_data['RA_ICRS']*u.deg, dec = filtered_data['DE_ICRS']*u.deg, frame ='icrs')\n",
    "\n",
    "# Конвертация в галактическую систему\n",
    "galactic_coords = coords.galactic\n",
    "\n",
    "ra_gal = coords.ra.deg   # l\n",
    "dec_gal = coords.dec.deg # b\n",
    "\n",
    "# print (ra_gal[2])\n"
   ]
  },
  {
   "cell_type": "code",
   "execution_count": 11,
   "id": "b9252618-8a03-4772-ac45-61e1989146a7",
   "metadata": {},
   "outputs": [
    {
     "name": "stdout",
     "output_type": "stream",
     "text": [
      "Всего объектов до фильтрации: 501\n",
      "Осталось после отбора (6 < R < 15 кпк): 499\n"
     ]
    }
   ],
   "source": [
    "# Рассчет расстояния от центра галактики до скопления\n",
    "R0 = 8.32 #кпк\n",
    "\n",
    "r_sun = filtered_data['dist50'] * 0.001 #массив расстояний от солнца до объекта в кпк\n",
    "# print (r_sun[5])\n",
    "\n",
    "R = np.zeros(len(filtered_data))\n",
    "l_rad = np.radians(ra_gal)\n",
    "b_rad = np.radians(dec_gal)\n",
    "\n",
    "R = np.sqrt(\n",
    "    R0**2 + \n",
    "    r_sun**2 * np.cos(b_rad)**2 - \n",
    "    2 * R0 * r_sun * np.cos(l_rad) * np.cos(b_rad))\n",
    "\n",
    "# Проверка результата\n",
    "# print(\"Пример расчёта R для первых 5 объектов:\")\n",
    "# print(R[:20])\n",
    "\n",
    "mask = (R > 6) & (R < 15)\n",
    "filtered_R = R[mask]  # Отфильтрованные расстояния\n",
    "filtered_data_1 = filtered_data[mask]  # Соответствующие строки данных\n",
    "\n",
    "print(f\"Всего объектов до фильтрации: {len(R)}\")\n",
    "print(f\"Осталось после отбора (6 < R < 15 кпк): {len(filtered_R)}\")\n",
    "\n",
    "# Создаем новую таблицу с отфильтрованными данными\n",
    "new_hdu = fits.TableHDU(filtered_data_1)\n",
    "    \n",
    "# Сохраняем результат в новый файл\n",
    "new_hdu.writeto('filtered_file.fits', overwrite=True)\n",
    "\n",
    "# Все R называются filtered_R"
   ]
  },
  {
   "cell_type": "code",
   "execution_count": 6,
   "id": "20f342a1-c931-4967-aed7-a18b025a4583",
   "metadata": {},
   "outputs": [],
   "source": [
    "# Рассчет собственного движения mu_l в галактической системе координат\n",
    "\n",
    "mu_l = np.zeros(len(filtered_R))\n",
    "\n",
    "ra = filtered_data_1['RA_ICRS']\n",
    "dec = filtered_data_1['DE_ICRS']\n",
    "\n",
    "# print(mu_alfa[5])\n",
    "\n",
    "coords_1 = SkyCoord(\n",
    "    ra = filtered_data_1['RA_ICRS'] * u.deg,          # Прямое восхождение\n",
    "    dec = filtered_data_1['DE_ICRS'] * u.deg,        # Склонение\n",
    "    pm_ra_cosdec = filtered_data_1['pmRA'] * u.mas/u.yr,  # Собственное движение по RA (уже включая cosδ)\n",
    "    # pm_ra_cosdec = data['pmra'] * np.cos(np.radians(data['dec'])) если косинус не включен\n",
    "    pm_dec  = filtered_data_1['pmDE'] * u.mas/u.yr        # Собственное движение по DEC\n",
    ")\n",
    "\n",
    "# Преобразование в галактическую систему координат\n",
    "galactic_coords = coords_1.transform_to(Galactic())\n",
    "\n",
    "# Извлечение собственных движений\n",
    "mu_l = galactic_coords.pm_l_cosb        # Собственное движение по галактической долготе (mas/yr)\n",
    "mu_b = galactic_coords.pm_b        # Собственное движение по галактической широте (mas/yr)\n",
    "\n",
    "# print(mu_l[:5])"
   ]
  },
  {
   "cell_type": "code",
   "execution_count": null,
   "id": "e327c059-f565-40d7-b60a-49088fd3168c",
   "metadata": {},
   "outputs": [],
   "source": []
  }
 ],
 "metadata": {
  "kernelspec": {
   "display_name": "Python 3 (ipykernel)",
   "language": "python",
   "name": "python3"
  },
  "language_info": {
   "codemirror_mode": {
    "name": "ipython",
    "version": 3
   },
   "file_extension": ".py",
   "mimetype": "text/x-python",
   "name": "python",
   "nbconvert_exporter": "python",
   "pygments_lexer": "ipython3",
   "version": "3.11.7"
  }
 },
 "nbformat": 4,
 "nbformat_minor": 5
}
